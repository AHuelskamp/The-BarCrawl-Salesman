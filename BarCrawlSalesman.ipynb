{
 "cells": [
  {
   "cell_type": "code",
   "execution_count": 5,
   "metadata": {
    "collapsed": false
   },
   "outputs": [
    {
     "name": "stdout",
     "output_type": "stream",
     "text": [
      "ricks pts 25 33\n",
      "{u'status': u'OK', u'rows': [{u'elements': [{u'duration': {u'text': u'1 min', u'value': 25}, u'distance': {u'text': u'33 m', u'value': 33}, u'status': u'OK'}]}], u'origin_addresses': [u'224 Abbot Rd, East Lansing, MI 48823, USA'], u'destination_addresses': [u'210 Abbot Rd, East Lansing, MI 48823, USA']}\n"
     ]
    }
   ],
   "source": [
    "\"\"\"\n",
    "TSP for the EL bars. \n",
    "A fair chunk of this code is shamelessly lifted from Randy Olsen\n",
    "Thank you! \n",
    "\n",
    "https://github.com/rhiever/Data-Analysis-and-Machine-Learning-Projects/blob/master/optimal-road-trip/Computing%20the%20optimal%20road%20trip%20across%20the%20U.S..ipynb\n",
    "\"\"\"\n",
    "\n",
    "import googlemaps\n",
    "from datetime import datetime\n",
    "\n",
    "# load API key from file not included in repo\n",
    "apikey = None\n",
    "with open(\"./key.txt\", 'r') as keyfile:\n",
    "    apikey = keyfile.readline().strip()\n",
    "\n",
    "#set up API client\n",
    "gmaps = googlemaps.Client(key=apikey)\n",
    "\n",
    "#walking to the bars\n",
    "tmode = \"walking\"\n",
    "\n",
    "#read in json of bars to get addresses\n",
    "import json \n",
    "\n",
    "jsonData=None \n",
    "with open(\"bars.json\",\"r\") as iFile: \n",
    "    jsonData = json.load(iFile)\n",
    "\n",
    "#Thank you Randy Olsen! \n",
    "from itertools import combinations\n",
    "\n",
    "#Save this data in a space seperated file ala 830 Hacker Rannk \n",
    "outfile=open(\"distances.ssv\",\"w\") \n",
    "outfile.write(\"bar1, bar2, seconds, meters\\n\")\n",
    "for (point1, point2) in combinations(jsonData,2): \n",
    "    address1=point1[\"address\"]  \n",
    "    bar1=point1[\"bar\"]\n",
    "    \n",
    "    address2=point2[\"address\"]\n",
    "    bar2=point2[\"bar\"]\n",
    "    \n",
    "    route = gmaps.distance_matrix(origins=[address1],\n",
    "                                  destinations=[address2],\n",
    "                                  mode=tmode,\n",
    "                                  language=\"English\",\n",
    "                                  units=\"metric\"\n",
    "                                 )\n",
    "    \n",
    "    secondsApart=route[\"rows\"][0][\"elements\"][0][\"duration\"][\"value\"]\n",
    "    metersApart=route[\"rows\"][0][\"elements\"][0][\"distance\"][\"value\"]\n",
    "    \n",
    "    \n",
    "    #write all of the things!\n",
    "    \n",
    "    outfile.write(\"{} {} {} {}\\n\".format(bar1, bar2, secondsApart, metersApart))\n",
    "    print bar1, bar2, secondsApart, metersApart \n",
    "    \n",
    "    print route \n",
    "    break\n",
    "outfile.close()\n"
   ]
  },
  {
   "cell_type": "code",
   "execution_count": null,
   "metadata": {
    "collapsed": true
   },
   "outputs": [],
   "source": []
  }
 ],
 "metadata": {
  "kernelspec": {
   "display_name": "Python 2",
   "language": "python",
   "name": "python2"
  },
  "language_info": {
   "codemirror_mode": {
    "name": "ipython",
    "version": 2
   },
   "file_extension": ".py",
   "mimetype": "text/x-python",
   "name": "python",
   "nbconvert_exporter": "python",
   "pygments_lexer": "ipython2",
   "version": "2.7.12"
  }
 },
 "nbformat": 4,
 "nbformat_minor": 2
}
