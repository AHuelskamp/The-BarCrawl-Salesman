{
 "cells": [
  {
   "cell_type": "code",
   "execution_count": 4,
   "metadata": {
    "collapsed": false
   },
   "outputs": [
    {
     "name": "stdout",
     "output_type": "stream",
     "text": [
      "[{u'bar': u'ricks', u'address': u' 224 Abbot Rd, East Lansing, MI 48823'}, {u'bar': u'pts', u'address': u' 210 Abbott Rd., East Lansing, MI 48823'}, {u'bar': u'elAz', u'address': u'  225 Ann St, East Lansing, MI 48823'}, {u'bar': u'harpers', u'address': u' 131 Albert Ave, East Lansing, MI 48823'}, {u'bar': u'theRiv', u'address': u' 231 M. A. C. Ave, East Lansing, MI 48823'}, {u'bar': u'peanutBarrel', u'address': u'  521 E Grand River Ave, East Lansing, MI 48823'}, {u'bar': u'tinCan', u'address': u' 313 E Grand River Ave'}, {u'bar': u'crunchys', u'address': u' 254 E Grand River Ave, East Lansing, MI 48823'}, {u'bar': u'dublin', u'address': u' 327 Abbot Rd, East Lansing, MI 48823'}, {u'bar': u'louHas', u'address': u' 211 E Grand River Ave, MI 48823 '}, {u'bar': u'hopCat', u'address': u' 300 Grove St, East Lansing, MI 48823'}, {u'bar': u'fieldHouse', u'address': u' 213 Ann St, East Lansing, MI 48823'}, {u'bar': u'landshark', u'address': u' 101 E Grand River Ave, East Lansing, MI 48823'}, {u'bar': u'beggars', u'address': u' 218 Abbot Rd, East Lansing, MI 48823'}]\n",
      "ricks  224 Abbot Rd, East Lansing, MI 48823\n",
      "pts  210 Abbott Rd., East Lansing, MI 48823\n",
      "elAz   225 Ann St, East Lansing, MI 48823\n",
      "harpers  131 Albert Ave, East Lansing, MI 48823\n",
      "theRiv  231 M. A. C. Ave, East Lansing, MI 48823\n",
      "peanutBarrel   521 E Grand River Ave, East Lansing, MI 48823\n",
      "tinCan  313 E Grand River Ave\n",
      "crunchys  254 E Grand River Ave, East Lansing, MI 48823\n",
      "dublin  327 Abbot Rd, East Lansing, MI 48823\n",
      "louHas  211 E Grand River Ave, MI 48823 \n",
      "hopCat  300 Grove St, East Lansing, MI 48823\n",
      "fieldHouse  213 Ann St, East Lansing, MI 48823\n",
      "landshark  101 E Grand River Ave, East Lansing, MI 48823\n",
      "beggars  218 Abbot Rd, East Lansing, MI 48823\n"
     ]
    }
   ],
   "source": [
    "import googlemaps\n",
    "from datetime import datetime\n",
    "\n",
    "# load API key from file not included in repo\n",
    "apikey = None\n",
    "with open(\"./key.txt\", 'r') as keyfile:\n",
    "    apikey = keyfile.readline().strip()\n",
    "\n",
    "tmode = \"walking\"\n",
    "\n",
    "#print(apikey)\n",
    "gmaps = googlemaps.Client(key=apikey)\n",
    "\n",
    "# example call to directions\n",
    "\"\"\"\n",
    "now = datetime.now()\n",
    "directions_result = gmaps.directions(\"Sydney Town Hall\",\n",
    "                                     \"Parramatta, NSW\",\n",
    "                                     mode=\"transit\",\n",
    "                                     departure_time=now)\n",
    "\"\"\"\n",
    "\n",
    "\n",
    "#read in json to get address \n",
    "import json \n",
    "\n",
    "\n",
    "#this works eh\n",
    "jsonData=None \n",
    "with open(\"bars.json\",\"r\") as iFile: \n",
    "    jsonData = json.loads(iFile.readline()) \n",
    "    \n",
    "print(jsonData)\n",
    "\n"
   ]
  },
  {
   "cell_type": "code",
   "execution_count": null,
   "metadata": {
    "collapsed": true
   },
   "outputs": [],
   "source": []
  },
  {
   "cell_type": "code",
   "execution_count": null,
   "metadata": {
    "collapsed": true
   },
   "outputs": [],
   "source": []
  }
 ],
 "metadata": {
  "kernelspec": {
   "display_name": "Python 2",
   "language": "python",
   "name": "python2"
  },
  "language_info": {
   "codemirror_mode": {
    "name": "ipython",
    "version": 2
   },
   "file_extension": ".py",
   "mimetype": "text/x-python",
   "name": "python",
   "nbconvert_exporter": "python",
   "pygments_lexer": "ipython2",
   "version": "2.7.12"
  }
 },
 "nbformat": 4,
 "nbformat_minor": 2
}
