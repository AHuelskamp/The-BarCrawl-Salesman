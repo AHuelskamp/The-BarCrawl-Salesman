{
 "cells": [
  {
   "cell_type": "code",
   "execution_count": null,
   "metadata": {
    "collapsed": false
   },
   "outputs": [],
   "source": [
    "import googlemaps\n",
    "from datetime import datetime\n",
    "\n",
    "# load API key from file not included in repo\n",
    "apikey = None\n",
    "with open(\"./key.txt\", 'r') as keyfile:\n",
    "    apikey = keyfile.readline().strip()\n",
    "\n",
    "tmode = \"walking\"\n",
    "\n",
    "#print(apikey)\n",
    "gmaps = googlemaps.Client(key=apikey)\n",
    "\n",
    "# example call to directions\n",
    "\"\"\"\n",
    "now = datetime.now()\n",
    "directions_result = gmaps.directions(\"Sydney Town Hall\",\n",
    "                                     \"Parramatta, NSW\",\n",
    "                                     mode=\"transit\",\n",
    "                                     departure_time=now)\n",
    "\"\"\""
   ]
  }
 ],
 "metadata": {
  "kernelspec": {
   "display_name": "Python 3",
   "language": "python",
   "name": "python3"
  },
  "language_info": {
   "codemirror_mode": {
    "name": "ipython",
    "version": 3
   },
   "file_extension": ".py",
   "mimetype": "text/x-python",
   "name": "python",
   "nbconvert_exporter": "python",
   "pygments_lexer": "ipython3",
   "version": "3.5.2"
  }
 },
 "nbformat": 4,
 "nbformat_minor": 2
}
